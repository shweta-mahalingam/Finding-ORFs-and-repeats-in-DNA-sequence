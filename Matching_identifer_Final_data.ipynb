{
  "nbformat": 4,
  "nbformat_minor": 0,
  "metadata": {
    "colab": {
      "provenance": [],
      "authorship_tag": "ABX9TyNxQ+KwIi/HAwegfSGA84HC",
      "include_colab_link": true
    },
    "kernelspec": {
      "name": "python3",
      "display_name": "Python 3"
    },
    "language_info": {
      "name": "python"
    }
  },
  "cells": [
    {
      "cell_type": "markdown",
      "metadata": {
        "id": "view-in-github",
        "colab_type": "text"
      },
      "source": [
        "<a href=\"https://colab.research.google.com/github/shweta-mahalingam/Finding-ORFs-and-repeats-in-DNA-sequence/blob/main/Matching_identifer_Final_data.ipynb\" target=\"_parent\"><img src=\"https://colab.research.google.com/assets/colab-badge.svg\" alt=\"Open In Colab\"/></a>"
      ]
    },
    {
      "cell_type": "code",
      "execution_count": null,
      "metadata": {
        "colab": {
          "base_uri": "https://localhost:8080/"
        },
        "id": "DXsNjQZnLcsL",
        "outputId": "69b9cae9-b0f5-446d-8784-00f7828eb7ca"
      },
      "outputs": [
        {
          "output_type": "stream",
          "name": "stdout",
          "text": [
            "Number of sequences in this file: 796\n"
          ]
        }
      ],
      "source": [
        "f = open(\"/content/protseq_yeastcyc15_201401.fasta\",\"r\")\n",
        "seq = f.read()\n",
        "print(\"Number of sequences in this file:\", seq.count(\">\"))\n",
        "\n"
      ]
    },
    {
      "cell_type": "code",
      "source": [
        "f = open(\"/content/protseq_yeastcyc15_201401.fasta\",\"r\")\n",
        "fasta = f.readlines()\n",
        "sequences = []\n",
        "seq = \"\"\n",
        "identifier = \"\"\n",
        "iden = []\n",
        "\n",
        "for f in fasta:\n",
        "\n",
        "  if not f.startswith(\">\"):\n",
        "    f = f.replace(\" \",\"\")\n",
        "    f = f.replace(\"\\n\",\"\")\n",
        "    f = f.replace(\"*\",\"\")\n",
        "    seq = seq+f\n",
        "  else:\n",
        "    f = f.replace(\"\\n\",\"\")\n",
        "    identifier = identifier+f\n",
        "    iden.append(identifier)\n",
        "    identifier = \"\"\n",
        "    sequences.append(seq)\n",
        "    seq = \"\"\n",
        "\n",
        "sequences.append(seq)\n",
        "\n",
        "\n",
        "content= {iden[i]:sequences [i+1] for i in range(len(iden))}\n",
        "# print(sequences)\n",
        "# print(iden)\n",
        "# print(content)\n",
        "\n",
        "\n",
        "\n",
        "\n"
      ],
      "metadata": {
        "id": "hUolyie_Lv2t"
      },
      "execution_count": null,
      "outputs": []
    },
    {
      "cell_type": "code",
      "source": [
        "g = open ('/content/uniprotkb_yeast_2024_03_09.fasta',\"r\")\n",
        "phytosome = g.readlines()\n",
        "\n",
        "lines = []\n",
        "l = \"\"\n",
        "code = \"\"\n",
        "c = []\n",
        "for g in phytosome:\n",
        "\n",
        "  if not g.startswith(\">\"):\n",
        "    g = g.replace(\" \",\"\")\n",
        "    g = g.replace(\"\\n\",\"\")\n",
        "    l = l+g\n",
        "  else:\n",
        "    g = g.replace(\"\\n\",\"\")\n",
        "    code = code+g\n",
        "    c.append(code)\n",
        "    code = \"\"\n",
        "    lines.append(l)\n",
        "    l = \"\"\n",
        "\n",
        "lines.append(l)\n",
        "# print(lines)\n",
        "\n",
        "dict = {c[i]:lines[i+1] for i in range(len(c))}\n",
        "print(len(lines))\n",
        "# print(c)\n",
        "# print(dict)"
      ],
      "metadata": {
        "colab": {
          "base_uri": "https://localhost:8080/"
        },
        "id": "iEYDC8plMg5m",
        "outputId": "556f6a5a-37e8-43f7-eef6-8480269ddb74"
      },
      "execution_count": null,
      "outputs": [
        {
          "output_type": "stream",
          "name": "stdout",
          "text": [
            "14550\n"
          ]
        }
      ]
    },
    {
      "cell_type": "code",
      "source": [
        "import pandas as pd\n",
        "df = pd.DataFrame(columns = [\"Uniprot_iden\", \"SGD_iden\"])\n",
        "\n",
        "def matching_identifier(dict, content, df):\n",
        "  for key in dict:\n",
        "    for key1 in content:\n",
        "      if dict.get(key) == content.get(key1):\n",
        "        df = df._append({\"Uniprot_iden\":key, \"SGD_iden\":key1}, ignore_index = True)\n",
        "\n",
        "  return df\n",
        "\n",
        "data = matching_identifier(dict,content,df)\n",
        "data.head()\n",
        "data.to_csv(\"Matching_Identifiers.csv\")\n",
        "\n",
        "\n"
      ],
      "metadata": {
        "id": "LUbVf-AGMs12"
      },
      "execution_count": null,
      "outputs": []
    }
  ]
}